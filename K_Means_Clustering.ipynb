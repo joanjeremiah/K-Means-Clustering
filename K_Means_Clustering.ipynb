{
  "nbformat": 4,
  "nbformat_minor": 0,
  "metadata": {
    "colab": {
      "name": "K Means Clustering.ipynb",
      "provenance": [],
      "collapsed_sections": [],
      "mount_file_id": "1EPMSWbGxgq62atC4eqbMEI7Qk5es-dbR",
      "authorship_tag": "ABX9TyPIKDNll95k3dpTNN2js0xj",
      "include_colab_link": true
    },
    "kernelspec": {
      "name": "python3",
      "display_name": "Python 3"
    },
    "language_info": {
      "name": "python"
    }
  },
  "cells": [
    {
      "cell_type": "markdown",
      "metadata": {
        "id": "view-in-github",
        "colab_type": "text"
      },
      "source": [
        "<a href=\"https://colab.research.google.com/github/joanjeremiah/K-Means-Clustering/blob/main/K_Means_Clustering.ipynb\" target=\"_parent\"><img src=\"https://colab.research.google.com/assets/colab-badge.svg\" alt=\"Open In Colab\"/></a>"
      ]
    },
    {
      "cell_type": "markdown",
      "metadata": {
        "id": "UB5-Ht2N-ARN"
      },
      "source": [
        "#K Means Clustering Project\n",
        "\n",
        "For this project we will attempt to use KMeans Clustering to cluster Universities into to two groups, Private and Public.\n",
        "\n",
        "It is very important to note, we actually have the labels for this data set, but we will NOT use them for the KMeans clustering algorithm, since that is an unsupervised learning algorithm.\n",
        "\n",
        "When using the Kmeans algorithm under normal circumstances, it is because you don't have labels. In this case we will use the labels to try to get an idea of how well the algorithm performed, but you won't usually do this for Kmeans, so the classification report and confusion matrix at the end of this project, don't truly make sense in a real world setting!.\n",
        "\n",
        "##The Data\n",
        "We will use a data frame with 777 observations on the following 18 variables.\n",
        "\n",
        "- Private A factor with levels No and Yes indicating private or public university\n",
        "- Apps Number of applications received\n",
        "- Accept Number of applications accepted\n",
        "- Enroll Number of new students enrolled\n",
        "- Top10perc Pct. new students from top 10% of H.S. class\n",
        "- Top25perc Pct. new students from top 25% of H.S. class\n",
        "- F.Undergrad Number of fulltime undergraduates\n",
        "- P.Undergrad Number of parttime undergraduates\n",
        "- Outstate Out-of-state tuition\n",
        "- Room.Board Room and board costs\n",
        "- Books Estimated book costs\n",
        "- Personal Estimated personal spending\n",
        "- PhD Pct. of faculty with Ph.D.’s\n",
        "- Terminal Pct. of faculty with terminal degree\n",
        "- S.F.Ratio Student/faculty ratio\n",
        "- perc.alumni Pct. alumni who donate\n",
        "- Expend Instructional expenditure per student\n",
        "- Grad.Rate Graduation rate"
      ]
    },
    {
      "cell_type": "markdown",
      "metadata": {
        "id": "vsjcdy8y-wS3"
      },
      "source": [
        "#Importing Libraries"
      ]
    },
    {
      "cell_type": "code",
      "metadata": {
        "id": "QOPoXEWC9VsT"
      },
      "source": [
        "import pandas as pd\n",
        "import numpy as np\n",
        "import matplotlib.pyplot as plt\n",
        "import seaborn as sns"
      ],
      "execution_count": 1,
      "outputs": []
    },
    {
      "cell_type": "code",
      "metadata": {
        "id": "lYKil4-G-TSX"
      },
      "source": [
        "college_df = pd.read_csv(\"/content/drive/MyDrive/datasets/College_Data\")"
      ],
      "execution_count": 2,
      "outputs": []
    },
    {
      "cell_type": "code",
      "metadata": {
        "colab": {
          "base_uri": "https://localhost:8080/",
          "height": 247
        },
        "id": "A21RfGUv_Sp1",
        "outputId": "7fbfc29f-fc32-4371-9bb8-5e8a56af7b13"
      },
      "source": [
        "college_df.head(3)"
      ],
      "execution_count": 3,
      "outputs": [
        {
          "output_type": "execute_result",
          "data": {
            "text/html": [
              "<div>\n",
              "<style scoped>\n",
              "    .dataframe tbody tr th:only-of-type {\n",
              "        vertical-align: middle;\n",
              "    }\n",
              "\n",
              "    .dataframe tbody tr th {\n",
              "        vertical-align: top;\n",
              "    }\n",
              "\n",
              "    .dataframe thead th {\n",
              "        text-align: right;\n",
              "    }\n",
              "</style>\n",
              "<table border=\"1\" class=\"dataframe\">\n",
              "  <thead>\n",
              "    <tr style=\"text-align: right;\">\n",
              "      <th></th>\n",
              "      <th>Unnamed: 0</th>\n",
              "      <th>Private</th>\n",
              "      <th>Apps</th>\n",
              "      <th>Accept</th>\n",
              "      <th>Enroll</th>\n",
              "      <th>Top10perc</th>\n",
              "      <th>Top25perc</th>\n",
              "      <th>F.Undergrad</th>\n",
              "      <th>P.Undergrad</th>\n",
              "      <th>Outstate</th>\n",
              "      <th>Room.Board</th>\n",
              "      <th>Books</th>\n",
              "      <th>Personal</th>\n",
              "      <th>PhD</th>\n",
              "      <th>Terminal</th>\n",
              "      <th>S.F.Ratio</th>\n",
              "      <th>perc.alumni</th>\n",
              "      <th>Expend</th>\n",
              "      <th>Grad.Rate</th>\n",
              "    </tr>\n",
              "  </thead>\n",
              "  <tbody>\n",
              "    <tr>\n",
              "      <th>0</th>\n",
              "      <td>Abilene Christian University</td>\n",
              "      <td>Yes</td>\n",
              "      <td>1660</td>\n",
              "      <td>1232</td>\n",
              "      <td>721</td>\n",
              "      <td>23</td>\n",
              "      <td>52</td>\n",
              "      <td>2885</td>\n",
              "      <td>537</td>\n",
              "      <td>7440</td>\n",
              "      <td>3300</td>\n",
              "      <td>450</td>\n",
              "      <td>2200</td>\n",
              "      <td>70</td>\n",
              "      <td>78</td>\n",
              "      <td>18.1</td>\n",
              "      <td>12</td>\n",
              "      <td>7041</td>\n",
              "      <td>60</td>\n",
              "    </tr>\n",
              "    <tr>\n",
              "      <th>1</th>\n",
              "      <td>Adelphi University</td>\n",
              "      <td>Yes</td>\n",
              "      <td>2186</td>\n",
              "      <td>1924</td>\n",
              "      <td>512</td>\n",
              "      <td>16</td>\n",
              "      <td>29</td>\n",
              "      <td>2683</td>\n",
              "      <td>1227</td>\n",
              "      <td>12280</td>\n",
              "      <td>6450</td>\n",
              "      <td>750</td>\n",
              "      <td>1500</td>\n",
              "      <td>29</td>\n",
              "      <td>30</td>\n",
              "      <td>12.2</td>\n",
              "      <td>16</td>\n",
              "      <td>10527</td>\n",
              "      <td>56</td>\n",
              "    </tr>\n",
              "    <tr>\n",
              "      <th>2</th>\n",
              "      <td>Adrian College</td>\n",
              "      <td>Yes</td>\n",
              "      <td>1428</td>\n",
              "      <td>1097</td>\n",
              "      <td>336</td>\n",
              "      <td>22</td>\n",
              "      <td>50</td>\n",
              "      <td>1036</td>\n",
              "      <td>99</td>\n",
              "      <td>11250</td>\n",
              "      <td>3750</td>\n",
              "      <td>400</td>\n",
              "      <td>1165</td>\n",
              "      <td>53</td>\n",
              "      <td>66</td>\n",
              "      <td>12.9</td>\n",
              "      <td>30</td>\n",
              "      <td>8735</td>\n",
              "      <td>54</td>\n",
              "    </tr>\n",
              "  </tbody>\n",
              "</table>\n",
              "</div>"
            ],
            "text/plain": [
              "                     Unnamed: 0 Private  Apps  ...  perc.alumni  Expend  Grad.Rate\n",
              "0  Abilene Christian University     Yes  1660  ...           12    7041         60\n",
              "1            Adelphi University     Yes  2186  ...           16   10527         56\n",
              "2                Adrian College     Yes  1428  ...           30    8735         54\n",
              "\n",
              "[3 rows x 19 columns]"
            ]
          },
          "metadata": {},
          "execution_count": 3
        }
      ]
    },
    {
      "cell_type": "code",
      "metadata": {
        "colab": {
          "base_uri": "https://localhost:8080/"
        },
        "id": "pc8QqgEo_Uuf",
        "outputId": "d6d34034-6f08-4563-ed73-a492401219c2"
      },
      "source": [
        "college_df.info()"
      ],
      "execution_count": 4,
      "outputs": [
        {
          "output_type": "stream",
          "name": "stdout",
          "text": [
            "<class 'pandas.core.frame.DataFrame'>\n",
            "RangeIndex: 777 entries, 0 to 776\n",
            "Data columns (total 19 columns):\n",
            " #   Column       Non-Null Count  Dtype  \n",
            "---  ------       --------------  -----  \n",
            " 0   Unnamed: 0   777 non-null    object \n",
            " 1   Private      777 non-null    object \n",
            " 2   Apps         777 non-null    int64  \n",
            " 3   Accept       777 non-null    int64  \n",
            " 4   Enroll       777 non-null    int64  \n",
            " 5   Top10perc    777 non-null    int64  \n",
            " 6   Top25perc    777 non-null    int64  \n",
            " 7   F.Undergrad  777 non-null    int64  \n",
            " 8   P.Undergrad  777 non-null    int64  \n",
            " 9   Outstate     777 non-null    int64  \n",
            " 10  Room.Board   777 non-null    int64  \n",
            " 11  Books        777 non-null    int64  \n",
            " 12  Personal     777 non-null    int64  \n",
            " 13  PhD          777 non-null    int64  \n",
            " 14  Terminal     777 non-null    int64  \n",
            " 15  S.F.Ratio    777 non-null    float64\n",
            " 16  perc.alumni  777 non-null    int64  \n",
            " 17  Expend       777 non-null    int64  \n",
            " 18  Grad.Rate    777 non-null    int64  \n",
            "dtypes: float64(1), int64(16), object(2)\n",
            "memory usage: 115.5+ KB\n"
          ]
        }
      ]
    },
    {
      "cell_type": "code",
      "metadata": {
        "colab": {
          "base_uri": "https://localhost:8080/",
          "height": 317
        },
        "id": "aTkrdN6L_YhB",
        "outputId": "f1fcc527-18dc-489f-8999-a5d396dc758e"
      },
      "source": [
        "college_df.describe()"
      ],
      "execution_count": 5,
      "outputs": [
        {
          "output_type": "execute_result",
          "data": {
            "text/html": [
              "<div>\n",
              "<style scoped>\n",
              "    .dataframe tbody tr th:only-of-type {\n",
              "        vertical-align: middle;\n",
              "    }\n",
              "\n",
              "    .dataframe tbody tr th {\n",
              "        vertical-align: top;\n",
              "    }\n",
              "\n",
              "    .dataframe thead th {\n",
              "        text-align: right;\n",
              "    }\n",
              "</style>\n",
              "<table border=\"1\" class=\"dataframe\">\n",
              "  <thead>\n",
              "    <tr style=\"text-align: right;\">\n",
              "      <th></th>\n",
              "      <th>Apps</th>\n",
              "      <th>Accept</th>\n",
              "      <th>Enroll</th>\n",
              "      <th>Top10perc</th>\n",
              "      <th>Top25perc</th>\n",
              "      <th>F.Undergrad</th>\n",
              "      <th>P.Undergrad</th>\n",
              "      <th>Outstate</th>\n",
              "      <th>Room.Board</th>\n",
              "      <th>Books</th>\n",
              "      <th>Personal</th>\n",
              "      <th>PhD</th>\n",
              "      <th>Terminal</th>\n",
              "      <th>S.F.Ratio</th>\n",
              "      <th>perc.alumni</th>\n",
              "      <th>Expend</th>\n",
              "      <th>Grad.Rate</th>\n",
              "    </tr>\n",
              "  </thead>\n",
              "  <tbody>\n",
              "    <tr>\n",
              "      <th>count</th>\n",
              "      <td>777.000000</td>\n",
              "      <td>777.000000</td>\n",
              "      <td>777.000000</td>\n",
              "      <td>777.000000</td>\n",
              "      <td>777.000000</td>\n",
              "      <td>777.000000</td>\n",
              "      <td>777.000000</td>\n",
              "      <td>777.000000</td>\n",
              "      <td>777.000000</td>\n",
              "      <td>777.000000</td>\n",
              "      <td>777.000000</td>\n",
              "      <td>777.000000</td>\n",
              "      <td>777.000000</td>\n",
              "      <td>777.000000</td>\n",
              "      <td>777.000000</td>\n",
              "      <td>777.000000</td>\n",
              "      <td>777.00000</td>\n",
              "    </tr>\n",
              "    <tr>\n",
              "      <th>mean</th>\n",
              "      <td>3001.638353</td>\n",
              "      <td>2018.804376</td>\n",
              "      <td>779.972973</td>\n",
              "      <td>27.558559</td>\n",
              "      <td>55.796654</td>\n",
              "      <td>3699.907336</td>\n",
              "      <td>855.298584</td>\n",
              "      <td>10440.669241</td>\n",
              "      <td>4357.526384</td>\n",
              "      <td>549.380952</td>\n",
              "      <td>1340.642214</td>\n",
              "      <td>72.660232</td>\n",
              "      <td>79.702703</td>\n",
              "      <td>14.089704</td>\n",
              "      <td>22.743887</td>\n",
              "      <td>9660.171171</td>\n",
              "      <td>65.46332</td>\n",
              "    </tr>\n",
              "    <tr>\n",
              "      <th>std</th>\n",
              "      <td>3870.201484</td>\n",
              "      <td>2451.113971</td>\n",
              "      <td>929.176190</td>\n",
              "      <td>17.640364</td>\n",
              "      <td>19.804778</td>\n",
              "      <td>4850.420531</td>\n",
              "      <td>1522.431887</td>\n",
              "      <td>4023.016484</td>\n",
              "      <td>1096.696416</td>\n",
              "      <td>165.105360</td>\n",
              "      <td>677.071454</td>\n",
              "      <td>16.328155</td>\n",
              "      <td>14.722359</td>\n",
              "      <td>3.958349</td>\n",
              "      <td>12.391801</td>\n",
              "      <td>5221.768440</td>\n",
              "      <td>17.17771</td>\n",
              "    </tr>\n",
              "    <tr>\n",
              "      <th>min</th>\n",
              "      <td>81.000000</td>\n",
              "      <td>72.000000</td>\n",
              "      <td>35.000000</td>\n",
              "      <td>1.000000</td>\n",
              "      <td>9.000000</td>\n",
              "      <td>139.000000</td>\n",
              "      <td>1.000000</td>\n",
              "      <td>2340.000000</td>\n",
              "      <td>1780.000000</td>\n",
              "      <td>96.000000</td>\n",
              "      <td>250.000000</td>\n",
              "      <td>8.000000</td>\n",
              "      <td>24.000000</td>\n",
              "      <td>2.500000</td>\n",
              "      <td>0.000000</td>\n",
              "      <td>3186.000000</td>\n",
              "      <td>10.00000</td>\n",
              "    </tr>\n",
              "    <tr>\n",
              "      <th>25%</th>\n",
              "      <td>776.000000</td>\n",
              "      <td>604.000000</td>\n",
              "      <td>242.000000</td>\n",
              "      <td>15.000000</td>\n",
              "      <td>41.000000</td>\n",
              "      <td>992.000000</td>\n",
              "      <td>95.000000</td>\n",
              "      <td>7320.000000</td>\n",
              "      <td>3597.000000</td>\n",
              "      <td>470.000000</td>\n",
              "      <td>850.000000</td>\n",
              "      <td>62.000000</td>\n",
              "      <td>71.000000</td>\n",
              "      <td>11.500000</td>\n",
              "      <td>13.000000</td>\n",
              "      <td>6751.000000</td>\n",
              "      <td>53.00000</td>\n",
              "    </tr>\n",
              "    <tr>\n",
              "      <th>50%</th>\n",
              "      <td>1558.000000</td>\n",
              "      <td>1110.000000</td>\n",
              "      <td>434.000000</td>\n",
              "      <td>23.000000</td>\n",
              "      <td>54.000000</td>\n",
              "      <td>1707.000000</td>\n",
              "      <td>353.000000</td>\n",
              "      <td>9990.000000</td>\n",
              "      <td>4200.000000</td>\n",
              "      <td>500.000000</td>\n",
              "      <td>1200.000000</td>\n",
              "      <td>75.000000</td>\n",
              "      <td>82.000000</td>\n",
              "      <td>13.600000</td>\n",
              "      <td>21.000000</td>\n",
              "      <td>8377.000000</td>\n",
              "      <td>65.00000</td>\n",
              "    </tr>\n",
              "    <tr>\n",
              "      <th>75%</th>\n",
              "      <td>3624.000000</td>\n",
              "      <td>2424.000000</td>\n",
              "      <td>902.000000</td>\n",
              "      <td>35.000000</td>\n",
              "      <td>69.000000</td>\n",
              "      <td>4005.000000</td>\n",
              "      <td>967.000000</td>\n",
              "      <td>12925.000000</td>\n",
              "      <td>5050.000000</td>\n",
              "      <td>600.000000</td>\n",
              "      <td>1700.000000</td>\n",
              "      <td>85.000000</td>\n",
              "      <td>92.000000</td>\n",
              "      <td>16.500000</td>\n",
              "      <td>31.000000</td>\n",
              "      <td>10830.000000</td>\n",
              "      <td>78.00000</td>\n",
              "    </tr>\n",
              "    <tr>\n",
              "      <th>max</th>\n",
              "      <td>48094.000000</td>\n",
              "      <td>26330.000000</td>\n",
              "      <td>6392.000000</td>\n",
              "      <td>96.000000</td>\n",
              "      <td>100.000000</td>\n",
              "      <td>31643.000000</td>\n",
              "      <td>21836.000000</td>\n",
              "      <td>21700.000000</td>\n",
              "      <td>8124.000000</td>\n",
              "      <td>2340.000000</td>\n",
              "      <td>6800.000000</td>\n",
              "      <td>103.000000</td>\n",
              "      <td>100.000000</td>\n",
              "      <td>39.800000</td>\n",
              "      <td>64.000000</td>\n",
              "      <td>56233.000000</td>\n",
              "      <td>118.00000</td>\n",
              "    </tr>\n",
              "  </tbody>\n",
              "</table>\n",
              "</div>"
            ],
            "text/plain": [
              "               Apps        Accept  ...        Expend  Grad.Rate\n",
              "count    777.000000    777.000000  ...    777.000000  777.00000\n",
              "mean    3001.638353   2018.804376  ...   9660.171171   65.46332\n",
              "std     3870.201484   2451.113971  ...   5221.768440   17.17771\n",
              "min       81.000000     72.000000  ...   3186.000000   10.00000\n",
              "25%      776.000000    604.000000  ...   6751.000000   53.00000\n",
              "50%     1558.000000   1110.000000  ...   8377.000000   65.00000\n",
              "75%     3624.000000   2424.000000  ...  10830.000000   78.00000\n",
              "max    48094.000000  26330.000000  ...  56233.000000  118.00000\n",
              "\n",
              "[8 rows x 17 columns]"
            ]
          },
          "metadata": {},
          "execution_count": 5
        }
      ]
    },
    {
      "cell_type": "markdown",
      "metadata": {
        "id": "pB_FSj89_tiO"
      },
      "source": [
        "#EDA\n",
        "It's time to create some data visualizations!\n",
        "\n",
        "**Creating a scatterplot of Grad.Rate versus Room.Board where the points are colored by the Private column.**\n",
        "\n"
      ]
    },
    {
      "cell_type": "code",
      "metadata": {
        "colab": {
          "base_uri": "https://localhost:8080/",
          "height": 296
        },
        "id": "iSRfwRUp_c_A",
        "outputId": "9ccceb30-d504-404c-d1cf-b45af4c8b091"
      },
      "source": [
        "sns.scatterplot(x=college_df[\"Grad.Rate\"],y=college_df[\"Room.Board\"],hue=college_df[\"Private\"])"
      ],
      "execution_count": 7,
      "outputs": [
        {
          "output_type": "execute_result",
          "data": {
            "text/plain": [
              "<matplotlib.axes._subplots.AxesSubplot at 0x7fcff8ab3310>"
            ]
          },
          "metadata": {},
          "execution_count": 7
        },
        {
          "output_type": "display_data",
          "data": {
            "image/png": "[encoded data removed]",
            "text/plain": [
              "<Figure size 432x288 with 1 Axes>"
            ]
          },
          "metadata": {
            "needs_background": "light"
          }
        }
      ]
    },
    {
      "cell_type": "markdown",
      "metadata": {
        "id": "kmZ7z_raAaWJ"
      },
      "source": [
        "**Creating a scatterplot of F.Undergrad versus Outstate where the points are colored by the Private column.**"
      ]
    },
    {
      "cell_type": "code",
      "metadata": {
        "colab": {
          "base_uri": "https://localhost:8080/",
          "height": 299
        },
        "id": "cdtxq0ZUAArT",
        "outputId": "9aec2aa7-2b55-4525-807e-d8ca3ecb7aac"
      },
      "source": [
        "sns.scatterplot(x=college_df[\"F.Undergrad\"],y=college_df[\"Outstate\"],hue=college_df[\"Private\"])"
      ],
      "execution_count": 8,
      "outputs": [
        {
          "output_type": "execute_result",
          "data": {
            "text/plain": [
              "<matplotlib.axes._subplots.AxesSubplot at 0x7fcff8a4f510>"
            ]
          },
          "metadata": {},
          "execution_count": 8
        },
        {
          "output_type": "display_data",
          "data": {
            "image/png": "[encoded data removed]",
            "text/plain": [
              "<Figure size 432x288 with 1 Axes>"
            ]
          },
          "metadata": {
            "needs_background": "light"
          }
        }
      ]
    },
    {
      "cell_type": "markdown",
      "metadata": {
        "id": "OdIgBEpgHfX9"
      },
      "source": [
        "**Creating a stacked histogram showing Out of State Tuition based on the Private column.**"
      ]
    },
    {
      "cell_type": "code",
      "metadata": {
        "colab": {
          "base_uri": "https://localhost:8080/",
          "height": 403
        },
        "id": "8wiKQEfsAngw",
        "outputId": "e885ec56-a8cd-4830-d8c9-e6fb532dda15"
      },
      "source": [
        "plt.figure(figsize=(12,6))\n",
        "sns.displot(data=college_df, x='Outstate', hue='Private', fill=True, height=5, aspect=1.5)"
      ],
      "execution_count": 20,
      "outputs": [
        {
          "output_type": "execute_result",
          "data": {
            "text/plain": [
              "<seaborn.axisgrid.FacetGrid at 0x7fcff2f9b490>"
            ]
          },
          "metadata": {},
          "execution_count": 20
        },
        {
          "output_type": "display_data",
          "data": {
            "text/plain": [
              "<Figure size 864x432 with 0 Axes>"
            ]
          },
          "metadata": {}
        },
        {
          "output_type": "display_data",
          "data": {
            "image/png": "[encoded data removed]",
            "text/plain": [
              "<Figure size 592x360 with 1 Axes>"
            ]
          },
          "metadata": {
            "needs_background": "light"
          }
        }
      ]
    },
    {
      "cell_type": "markdown",
      "metadata": {
        "id": "PmrXnKVvHsB9"
      },
      "source": [
        "**Creating a similar histogram for the Grad.Rate column.**"
      ]
    },
    {
      "cell_type": "code",
      "metadata": {
        "colab": {
          "base_uri": "https://localhost:8080/",
          "height": 403
        },
        "id": "JJQbfhwmA3oG",
        "outputId": "3d30bc26-1001-4448-eb3a-1449e43cd760"
      },
      "source": [
        "plt.figure(figsize=(12,6))\n",
        "sns.displot(data=college_df, x='Grad.Rate', hue='Private', fill=True, height=5, aspect=1.5)"
      ],
      "execution_count": 21,
      "outputs": [
        {
          "output_type": "execute_result",
          "data": {
            "text/plain": [
              "<seaborn.axisgrid.FacetGrid at 0x7fcfea54bb50>"
            ]
          },
          "metadata": {},
          "execution_count": 21
        },
        {
          "output_type": "display_data",
          "data": {
            "text/plain": [
              "<Figure size 864x432 with 0 Axes>"
            ]
          },
          "metadata": {}
        },
        {
          "output_type": "display_data",
          "data": {
            "image/png": "[encoded data removed]",
            "text/plain": [
              "<Figure size 592x360 with 1 Axes>"
            ]
          },
          "metadata": {
            "needs_background": "light"
          }
        }
      ]
    },
    {
      "cell_type": "code",
      "metadata": {
        "colab": {
          "base_uri": "https://localhost:8080/"
        },
        "id": "qnQNR60BCwAl",
        "outputId": "34326ddd-dec5-4cfd-d3b6-21520771b670"
      },
      "source": [
        "college_df[college_df[\"Grad.Rate\"] > 100][\"Grad.Rate\"] = 100"
      ],
      "execution_count": 24,
      "outputs": [
        {
          "output_type": "stream",
          "name": "stderr",
          "text": [
            "/usr/local/lib/python3.7/dist-packages/ipykernel_launcher.py:1: SettingWithCopyWarning: \n",
            "A value is trying to be set on a copy of a slice from a DataFrame.\n",
            "Try using .loc[row_indexer,col_indexer] = value instead\n",
            "\n",
            "See the caveats in the documentation: https://pandas.pydata.org/pandas-docs/stable/user_guide/indexing.html#returning-a-view-versus-a-copy\n",
            "  \"\"\"Entry point for launching an IPython kernel.\n"
          ]
        }
      ]
    },
    {
      "cell_type": "markdown",
      "metadata": {
        "id": "oRoTrt_dH0xN"
      },
      "source": [
        "#K Means Cluster Creation\n",
        "\n",
        "**Import KMeans from SciKit Learn.**"
      ]
    },
    {
      "cell_type": "code",
      "metadata": {
        "id": "fd148P5NC6Sr"
      },
      "source": [
        "from sklearn.cluster import KMeans"
      ],
      "execution_count": 25,
      "outputs": []
    },
    {
      "cell_type": "code",
      "metadata": {
        "id": "5BnWNEnEEOMW"
      },
      "source": [
        "kMeans = KMeans(n_clusters = 2)"
      ],
      "execution_count": 32,
      "outputs": []
    },
    {
      "cell_type": "markdown",
      "metadata": {
        "id": "HpwB9qPDIGOm"
      },
      "source": [
        "**Fitting the model to all the data except for the Private label.**"
      ]
    },
    {
      "cell_type": "code",
      "metadata": {
        "colab": {
          "base_uri": "https://localhost:8080/"
        },
        "id": "8yWs5hKcESO-",
        "outputId": "24a8ede7-b899-4793-d580-8f8c1e171ddb"
      },
      "source": [
        "kMeans.fit(college_df.drop([\"Unnamed: 0\",\"Private\"],axis=1))"
      ],
      "execution_count": 34,
      "outputs": [
        {
          "output_type": "execute_result",
          "data": {
            "text/plain": [
              "KMeans(algorithm='auto', copy_x=True, init='k-means++', max_iter=300,\n",
              "       n_clusters=2, n_init=10, n_jobs=None, precompute_distances='auto',\n",
              "       random_state=None, tol=0.0001, verbose=0)"
            ]
          },
          "metadata": {},
          "execution_count": 34
        }
      ]
    },
    {
      "cell_type": "markdown",
      "metadata": {
        "id": "n5mNvllKINhf"
      },
      "source": [
        "**Centres of clusters**"
      ]
    },
    {
      "cell_type": "code",
      "metadata": {
        "colab": {
          "base_uri": "https://localhost:8080/"
        },
        "id": "4ugllQkVEgQ6",
        "outputId": "c3a92afb-d74f-425c-b24b-631f0e932efa"
      },
      "source": [
        "kMeans.cluster_centers_"
      ],
      "execution_count": 35,
      "outputs": [
        {
          "output_type": "execute_result",
          "data": {
            "text/plain": [
              "array([[1.81323468e+03, 1.28716592e+03, 4.91044843e+02, 2.53094170e+01,\n",
              "        5.34708520e+01, 2.18854858e+03, 5.95458894e+02, 1.03957085e+04,\n",
              "        4.31136472e+03, 5.41982063e+02, 1.28033632e+03, 7.04424514e+01,\n",
              "        7.78251121e+01, 1.40997010e+01, 2.31748879e+01, 8.93204634e+03,\n",
              "        6.51195815e+01],\n",
              "       [1.03631389e+04, 6.55089815e+03, 2.56972222e+03, 4.14907407e+01,\n",
              "        7.02037037e+01, 1.30619352e+04, 2.46486111e+03, 1.07191759e+04,\n",
              "        4.64347222e+03, 5.95212963e+02, 1.71420370e+03, 8.63981481e+01,\n",
              "        9.13333333e+01, 1.40277778e+01, 2.00740741e+01, 1.41705000e+04,\n",
              "        6.75925926e+01]])"
            ]
          },
          "metadata": {},
          "execution_count": 35
        }
      ]
    },
    {
      "cell_type": "markdown",
      "metadata": {
        "id": "2e-YDqOnIirJ"
      },
      "source": [
        "#Evaluation\n",
        "There is no perfect way to evaluate clustering if you don't have the labels, however since this is just an exercise, we do have the labels, so we take advantage of this to evaluate our clusters, keep in mind, you usually won't have this luxury in the real world.\n",
        "\n",
        "**Create a new column for df called 'Cluster', which is a 1 for a Private school, and a 0 for a public school.**"
      ]
    },
    {
      "cell_type": "code",
      "metadata": {
        "id": "7jhNhEztF-GW"
      },
      "source": [
        "def converter(private):\n",
        "  if(private == 'True'):\n",
        "    return 1\n",
        "  else:\n",
        "    return 0"
      ],
      "execution_count": 38,
      "outputs": []
    },
    {
      "cell_type": "code",
      "metadata": {
        "id": "Wi22nCmTFjWA"
      },
      "source": [
        "college_df[\"Clusters\"] = college_df[\"Private\"].apply(converter)"
      ],
      "execution_count": 41,
      "outputs": []
    },
    {
      "cell_type": "code",
      "metadata": {
        "colab": {
          "base_uri": "https://localhost:8080/",
          "height": 247
        },
        "id": "TVQfnMieGOOA",
        "outputId": "fff3b19c-839b-4ecd-b181-a3ca664153b7"
      },
      "source": [
        "college_df.head(3)"
      ],
      "execution_count": 42,
      "outputs": [
        {
          "output_type": "execute_result",
          "data": {
            "text/html": [
              "<div>\n",
              "<style scoped>\n",
              "    .dataframe tbody tr th:only-of-type {\n",
              "        vertical-align: middle;\n",
              "    }\n",
              "\n",
              "    .dataframe tbody tr th {\n",
              "        vertical-align: top;\n",
              "    }\n",
              "\n",
              "    .dataframe thead th {\n",
              "        text-align: right;\n",
              "    }\n",
              "</style>\n",
              "<table border=\"1\" class=\"dataframe\">\n",
              "  <thead>\n",
              "    <tr style=\"text-align: right;\">\n",
              "      <th></th>\n",
              "      <th>Unnamed: 0</th>\n",
              "      <th>Private</th>\n",
              "      <th>Apps</th>\n",
              "      <th>Accept</th>\n",
              "      <th>Enroll</th>\n",
              "      <th>Top10perc</th>\n",
              "      <th>Top25perc</th>\n",
              "      <th>F.Undergrad</th>\n",
              "      <th>P.Undergrad</th>\n",
              "      <th>Outstate</th>\n",
              "      <th>Room.Board</th>\n",
              "      <th>Books</th>\n",
              "      <th>Personal</th>\n",
              "      <th>PhD</th>\n",
              "      <th>Terminal</th>\n",
              "      <th>S.F.Ratio</th>\n",
              "      <th>perc.alumni</th>\n",
              "      <th>Expend</th>\n",
              "      <th>Grad.Rate</th>\n",
              "      <th>Clusters</th>\n",
              "    </tr>\n",
              "  </thead>\n",
              "  <tbody>\n",
              "    <tr>\n",
              "      <th>0</th>\n",
              "      <td>Abilene Christian University</td>\n",
              "      <td>Yes</td>\n",
              "      <td>1660</td>\n",
              "      <td>1232</td>\n",
              "      <td>721</td>\n",
              "      <td>23</td>\n",
              "      <td>52</td>\n",
              "      <td>2885</td>\n",
              "      <td>537</td>\n",
              "      <td>7440</td>\n",
              "      <td>3300</td>\n",
              "      <td>450</td>\n",
              "      <td>2200</td>\n",
              "      <td>70</td>\n",
              "      <td>78</td>\n",
              "      <td>18.1</td>\n",
              "      <td>12</td>\n",
              "      <td>7041</td>\n",
              "      <td>60</td>\n",
              "      <td>0</td>\n",
              "    </tr>\n",
              "    <tr>\n",
              "      <th>1</th>\n",
              "      <td>Adelphi University</td>\n",
              "      <td>Yes</td>\n",
              "      <td>2186</td>\n",
              "      <td>1924</td>\n",
              "      <td>512</td>\n",
              "      <td>16</td>\n",
              "      <td>29</td>\n",
              "      <td>2683</td>\n",
              "      <td>1227</td>\n",
              "      <td>12280</td>\n",
              "      <td>6450</td>\n",
              "      <td>750</td>\n",
              "      <td>1500</td>\n",
              "      <td>29</td>\n",
              "      <td>30</td>\n",
              "      <td>12.2</td>\n",
              "      <td>16</td>\n",
              "      <td>10527</td>\n",
              "      <td>56</td>\n",
              "      <td>0</td>\n",
              "    </tr>\n",
              "    <tr>\n",
              "      <th>2</th>\n",
              "      <td>Adrian College</td>\n",
              "      <td>Yes</td>\n",
              "      <td>1428</td>\n",
              "      <td>1097</td>\n",
              "      <td>336</td>\n",
              "      <td>22</td>\n",
              "      <td>50</td>\n",
              "      <td>1036</td>\n",
              "      <td>99</td>\n",
              "      <td>11250</td>\n",
              "      <td>3750</td>\n",
              "      <td>400</td>\n",
              "      <td>1165</td>\n",
              "      <td>53</td>\n",
              "      <td>66</td>\n",
              "      <td>12.9</td>\n",
              "      <td>30</td>\n",
              "      <td>8735</td>\n",
              "      <td>54</td>\n",
              "      <td>0</td>\n",
              "    </tr>\n",
              "  </tbody>\n",
              "</table>\n",
              "</div>"
            ],
            "text/plain": [
              "                     Unnamed: 0 Private  Apps  ...  Expend  Grad.Rate  Clusters\n",
              "0  Abilene Christian University     Yes  1660  ...    7041         60         0\n",
              "1            Adelphi University     Yes  2186  ...   10527         56         0\n",
              "2                Adrian College     Yes  1428  ...    8735         54         0\n",
              "\n",
              "[3 rows x 20 columns]"
            ]
          },
          "metadata": {},
          "execution_count": 42
        }
      ]
    },
    {
      "cell_type": "code",
      "metadata": {
        "colab": {
          "base_uri": "https://localhost:8080/"
        },
        "id": "FyGJcOP8GVUy",
        "outputId": "898cf08d-b572-4d3b-e994-b65b50f88e97"
      },
      "source": [
        "kMeans.labels_"
      ],
      "execution_count": 44,
      "outputs": [
        {
          "output_type": "execute_result",
          "data": {
            "text/plain": [
              "array([0, 0, 0, 0, 0, 0, 0, 0, 0, 0, 0, 0, 0, 0, 0, 0, 0, 0, 0, 0, 1, 1,\n",
              "       0, 1, 0, 0, 0, 1, 0, 0, 0, 0, 0, 0, 0, 0, 0, 0, 0, 1, 0, 0, 0, 0,\n",
              "       0, 0, 0, 0, 0, 0, 0, 0, 0, 0, 0, 0, 0, 0, 0, 1, 0, 1, 0, 0, 0, 0,\n",
              "       0, 0, 0, 1, 1, 0, 0, 0, 0, 0, 0, 0, 1, 1, 0, 0, 0, 0, 0, 0, 0, 1,\n",
              "       0, 0, 0, 0, 0, 0, 0, 0, 0, 0, 0, 0, 0, 0, 0, 0, 0, 0, 0, 0, 0, 0,\n",
              "       0, 0, 0, 0, 0, 0, 0, 0, 1, 0, 0, 0, 0, 0, 0, 0, 0, 0, 0, 0, 0, 0,\n",
              "       0, 0, 0, 0, 0, 0, 0, 0, 0, 1, 0, 0, 1, 0, 0, 0, 0, 0, 0, 0, 0, 0,\n",
              "       0, 0, 0, 0, 1, 0, 0, 0, 0, 0, 0, 0, 0, 0, 0, 0, 0, 0, 0, 0, 1, 0,\n",
              "       1, 0, 0, 0, 0, 0, 0, 0, 0, 0, 0, 0, 0, 0, 0, 1, 0, 0, 0, 0, 0, 0,\n",
              "       0, 0, 0, 0, 0, 1, 0, 0, 0, 0, 0, 0, 0, 0, 0, 0, 0, 0, 0, 0, 0, 1,\n",
              "       0, 1, 1, 0, 0, 0, 0, 0, 0, 0, 0, 0, 0, 0, 0, 0, 0, 0, 0, 0, 0, 0,\n",
              "       0, 0, 0, 0, 0, 0, 0, 0, 1, 0, 0, 0, 0, 0, 0, 1, 0, 0, 0, 0, 0, 0,\n",
              "       0, 0, 0, 0, 0, 1, 0, 0, 0, 0, 1, 0, 0, 1, 0, 1, 0, 0, 0, 0, 1, 0,\n",
              "       0, 0, 1, 0, 0, 0, 0, 0, 0, 0, 0, 0, 0, 0, 0, 0, 0, 0, 0, 0, 0, 0,\n",
              "       0, 0, 0, 0, 0, 0, 0, 0, 0, 0, 0, 0, 0, 0, 0, 0, 1, 0, 0, 0, 0, 0,\n",
              "       0, 0, 0, 0, 0, 0, 0, 0, 0, 0, 0, 0, 0, 0, 0, 0, 0, 0, 0, 0, 0, 0,\n",
              "       0, 0, 1, 0, 0, 0, 0, 0, 0, 0, 0, 0, 0, 1, 1, 0, 0, 0, 0, 0, 0, 0,\n",
              "       0, 0, 0, 0, 0, 0, 0, 0, 0, 0, 0, 0, 0, 0, 0, 0, 0, 0, 0, 0, 0, 0,\n",
              "       0, 0, 0, 0, 0, 0, 0, 0, 0, 0, 0, 1, 0, 0, 0, 0, 1, 0, 0, 0, 0, 0,\n",
              "       1, 1, 1, 0, 0, 0, 1, 0, 0, 0, 0, 0, 0, 0, 1, 0, 0, 0, 1, 0, 0, 0,\n",
              "       0, 0, 0, 0, 0, 1, 0, 0, 0, 0, 0, 0, 0, 0, 0, 0, 0, 0, 0, 1, 0, 1,\n",
              "       0, 0, 0, 0, 0, 0, 0, 0, 0, 0, 0, 0, 0, 0, 0, 0, 0, 0, 0, 0, 0, 1,\n",
              "       0, 0, 0, 0, 0, 0, 0, 0, 0, 0, 0, 0, 0, 0, 0, 0, 0, 0, 0, 0, 0, 0,\n",
              "       0, 0, 0, 0, 1, 0, 0, 0, 0, 0, 0, 0, 0, 0, 0, 0, 0, 0, 0, 0, 0, 0,\n",
              "       0, 0, 0, 0, 0, 0, 0, 0, 1, 0, 0, 0, 0, 0, 0, 0, 0, 0, 0, 0, 0, 0,\n",
              "       0, 0, 0, 0, 0, 0, 0, 0, 0, 0, 1, 1, 1, 1, 0, 0, 0, 0, 0, 0, 0, 0,\n",
              "       0, 0, 0, 0, 1, 0, 0, 0, 0, 1, 0, 0, 0, 0, 0, 0, 0, 0, 0, 0, 0, 0,\n",
              "       0, 0, 0, 1, 0, 0, 0, 0, 0, 0, 0, 1, 1, 1, 0, 1, 1, 1, 0, 0, 1, 0,\n",
              "       0, 0, 0, 1, 1, 0, 1, 1, 1, 0, 1, 0, 1, 0, 0, 0, 0, 1, 1, 0, 1, 1,\n",
              "       0, 0, 1, 0, 1, 0, 0, 0, 0, 1, 0, 1, 0, 1, 1, 0, 0, 0, 0, 1, 0, 0,\n",
              "       1, 1, 1, 1, 1, 0, 0, 1, 0, 1, 0, 0, 0, 0, 0, 1, 1, 1, 0, 0, 0, 0,\n",
              "       0, 1, 0, 1, 0, 0, 0, 0, 0, 1, 1, 1, 1, 0, 0, 0, 0, 0, 1, 1, 0, 0,\n",
              "       0, 0, 0, 0, 1, 0, 1, 1, 0, 1, 0, 0, 0, 0, 0, 0, 1, 0, 0, 0, 0, 0,\n",
              "       0, 1, 1, 0, 0, 0, 0, 0, 0, 0, 0, 0, 0, 0, 0, 0, 0, 1, 0, 0, 0, 0,\n",
              "       0, 0, 0, 0, 0, 0, 0, 0, 0, 0, 0, 0, 0, 0, 0, 0, 0, 0, 0, 0, 0, 0,\n",
              "       0, 0, 0, 0, 0, 1, 0], dtype=int32)"
            ]
          },
          "metadata": {},
          "execution_count": 44
        }
      ]
    },
    {
      "cell_type": "markdown",
      "metadata": {
        "id": "aijZI7TXJEL1"
      },
      "source": [
        "**Creating a confusion matrix and classification report to see how well the Kmeans clustering worked without being given any labels.**"
      ]
    },
    {
      "cell_type": "code",
      "metadata": {
        "id": "kcZGAiCnGo0S"
      },
      "source": [
        "from sklearn.metrics import classification_report,confusion_matrix"
      ],
      "execution_count": 45,
      "outputs": []
    },
    {
      "cell_type": "code",
      "metadata": {
        "colab": {
          "base_uri": "https://localhost:8080/"
        },
        "id": "Jl23bBt-GxyE",
        "outputId": "d0006e2e-553f-4a10-b48e-c57b94a030e9"
      },
      "source": [
        "print(classification_report(college_df[\"Clusters\"],kMeans.labels_))"
      ],
      "execution_count": 46,
      "outputs": [
        {
          "output_type": "stream",
          "name": "stdout",
          "text": [
            "              precision    recall  f1-score   support\n",
            "\n",
            "           0       1.00      0.86      0.93       777\n",
            "           1       0.00      0.00      0.00         0\n",
            "\n",
            "    accuracy                           0.86       777\n",
            "   macro avg       0.50      0.43      0.46       777\n",
            "weighted avg       1.00      0.86      0.93       777\n",
            "\n"
          ]
        },
        {
          "output_type": "stream",
          "name": "stderr",
          "text": [
            "/usr/local/lib/python3.7/dist-packages/sklearn/metrics/_classification.py:1272: UndefinedMetricWarning: Recall and F-score are ill-defined and being set to 0.0 in labels with no true samples. Use `zero_division` parameter to control this behavior.\n",
            "  _warn_prf(average, modifier, msg_start, len(result))\n"
          ]
        }
      ]
    },
    {
      "cell_type": "code",
      "metadata": {
        "colab": {
          "base_uri": "https://localhost:8080/"
        },
        "id": "kDHGZUKPG7Nh",
        "outputId": "740b9685-81f4-4724-9767-8a0268f64935"
      },
      "source": [
        "print(confusion_matrix(college_df[\"Clusters\"],kMeans.labels_))"
      ],
      "execution_count": 47,
      "outputs": [
        {
          "output_type": "stream",
          "name": "stdout",
          "text": [
            "[[669 108]\n",
            " [  0   0]]\n"
          ]
        }
      ]
    }
  ]
}